{
 "cells": [
  {
   "cell_type": "code",
   "execution_count": 17,
   "metadata": {
    "collapsed": false
   },
   "outputs": [
    {
     "name": "stdout",
     "output_type": "stream",
     "text": [
      "Please enter first number1\n",
      "please enter second number4\n",
      "please enter third number5\n",
      "the bigest number is 3\n",
      "<class 'int'>\n"
     ]
    }
   ],
   "source": [
    "def main():\n",
    "    arr = []\n",
    "    num1 = int(input(\"Please enter first number\"))\n",
    "    arr.append(num1)\n",
    "    num2 = int(input(\"please enter second number\"))\n",
    "    arr.append(num2)\n",
    "    num3 = int(input(\"please enter third number\"))\n",
    "    arr.append(num3)\n",
    "    sorted_arr = sorted(arr)\n",
    "    len_of_sorted_arr= len(sorted_arr)\n",
    "    print(\"the bigest number is\",sorted_arr[len_of_sorted_arr-1])\n",
    "    print(type(len_of_sorted_arr))\n",
    "    \n",
    "    \n",
    "\n",
    "if __name__ == \"__main__\":\n",
    "    main()"
   ]
  },
  {
   "cell_type": "code",
   "execution_count": null,
   "metadata": {
    "collapsed": true
   },
   "outputs": [],
   "source": []
  }
 ],
 "metadata": {
  "anaconda-cloud": {},
  "kernelspec": {
   "display_name": "Python [conda root]",
   "language": "python",
   "name": "conda-root-py"
  },
  "language_info": {
   "codemirror_mode": {
    "name": "ipython",
    "version": 3
   },
   "file_extension": ".py",
   "mimetype": "text/x-python",
   "name": "python",
   "nbconvert_exporter": "python",
   "pygments_lexer": "ipython3",
   "version": "3.5.2"
  }
 },
 "nbformat": 4,
 "nbformat_minor": 1
}
