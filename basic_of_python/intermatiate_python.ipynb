{
 "cells": [
  {
   "cell_type": "code",
   "execution_count": 18,
   "metadata": {
    "collapsed": false
   },
   "outputs": [
    {
     "name": "stdout",
     "output_type": "stream",
     "text": [
      "Please enter first number2\n",
      "please enter second number4\n",
      "please enter third number5\n",
      "the bigest number is 5\n",
      "<class 'int'>\n"
     ]
    }
   ],
   "source": [
    "#Find the biggest number from 3 that given by user\n",
    "def main():\n",
    "    arr = []\n",
    "    num1 = int(input(\"Please enter first number --> \"))\n",
    "    arr.append(num1)\n",
    "    num2 = int(input(\"please enter second number --> \"))\n",
    "    arr.append(num2)\n",
    "    num3 = int(input(\"please enter third number --> \"))\n",
    "    arr.append(num3)\n",
    "    sorted_arr = sorted(arr)\n",
    "    len_of_sorted_arr= len(sorted_arr)\n",
    "    print(\"the bigest number is \",sorted_arr[len_of_sorted_arr-1])    \n",
    "    \n",
    "\n",
    "if __name__ == \"__main__\":\n",
    "    main()"
   ]
  },
  {
   "cell_type": "code",
   "execution_count": 26,
   "metadata": {
    "collapsed": false
   },
   "outputs": [
    {
     "name": "stdout",
     "output_type": "stream",
     "text": [
      "Please enter the number to check it is perfect or not ? --> 5\n",
      "it is not a perfect number\n"
     ]
    }
   ],
   "source": [
    "# Find a nuber ,that get as input, perfect or not\n",
    "\n",
    "def main():\n",
    "    num1 = int(input(\"Please enter the number to check it is perfect or not ? --> \"))\n",
    "    sum = 0\n",
    "    for i in range(1,num1):\n",
    "        if num1 % i == 0:\n",
    "            sum += i\n",
    "    if sum == num1:\n",
    "        print(\"it is a perfect number\")\n",
    "    else: \n",
    "        print(\"it is not a perfect number\")\n",
    "\n",
    "    \n",
    "if __name__ == \"__main__\":\n",
    "    main()"
   ]
  },
  {
   "cell_type": "code",
   "execution_count": 77,
   "metadata": {
    "collapsed": false
   },
   "outputs": [
    {
     "name": "stdout",
     "output_type": "stream",
     "text": [
      "hav hav\n",
      "['runing', 'walking', 'playing', 'biting']\n",
      "miyav rr\n",
      "['climbing', 'jumping', 'scracing', 'playing']\n",
      "grey\n"
     ]
    }
   ],
   "source": [
    "#Ptyhon Examples\n",
    "#-----------------\n",
    "class animal:\n",
    "    def __init__(self,sound,life_span,eating_habit):\n",
    "        self.cell_structure = \"selective tin\"\n",
    "        self.habitat = []\n",
    "        self.sound = sound\n",
    "        self.life_span = life_span \n",
    "        self.eating_habit = eating_habit\n",
    "    def add_habitat(self,*args):\n",
    "        for i in args:\n",
    "            self.habitat.append(i)\n",
    "            \n",
    "Dog = animal(\"hav hav\", 10 , \"mixed\")\n",
    "print(Dog.sound)\n",
    "Dog.add_habitat(\"runing\",\"walking\",\"playing\",\"biting\")\n",
    "print(Dog.habitat)\n",
    "\n",
    "Cat = animal(\"miyav rr\", 7 , \"mixed\")\n",
    "print(Cat.sound)\n",
    "Cat.add_habitat(\"climbing\",\"jumping\",\"scracing\",\"playing\")\n",
    "print(Cat.habitat)\n",
    "\n",
    "#Inheritance and super keyword usage\n",
    "#------------------------------------\n",
    "class dog(animal):\n",
    "    def __init__(self,sound,life_span,eating_habit,color):\n",
    "        super().__init__(sound,life_span,eating_habit)\n",
    "        self.color = color\n",
    "    \n",
    "bulldog = dog(\"hav hav\", 5, \"meat\",\"grey\")\n",
    "print(bulldog.color)\n",
    "        "
   ]
  },
  {
   "cell_type": "code",
   "execution_count": null,
   "metadata": {
    "collapsed": false
   },
   "outputs": [],
   "source": []
  }
 ],
 "metadata": {
  "anaconda-cloud": {},
  "kernelspec": {
   "display_name": "Python [conda root]",
   "language": "python",
   "name": "conda-root-py"
  },
  "language_info": {
   "codemirror_mode": {
    "name": "ipython",
    "version": 3
   },
   "file_extension": ".py",
   "mimetype": "text/x-python",
   "name": "python",
   "nbconvert_exporter": "python",
   "pygments_lexer": "ipython3",
   "version": "3.5.2"
  }
 },
 "nbformat": 4,
 "nbformat_minor": 1
}
